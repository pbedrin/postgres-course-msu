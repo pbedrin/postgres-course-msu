{
 "cells": [
  {
   "cell_type": "code",
   "execution_count": 1,
   "metadata": {
    "collapsed": true
   },
   "outputs": [],
   "source": [
    "manufacturers = ['EXEED', 'Hyundai', 'Kia', 'Skoda']\n",
    "models = {\n",
    "    'EXEED': ['LX', 'TXL', 'TXL 2.0'],\n",
    "    'Hyundai': ['TUCSON', 'SANTA FE', 'SONATA'],\n",
    "    'Kia': ['Seltos', 'Ceed', 'Sportage'],\n",
    "    'Skoda': ['RAPID', 'KAROQ', 'SUPERB']\n",
    "}\n",
    "devices = [\"радио\", \"мультимедиа-система\", \"кондиционер\", \"обогрев сидений\", \"обогрев руля\", \"GPS-навигатор\"]\n",
    "transmissions = ['Автомат', 'Вариатор', 'Механика', 'Робот']\n",
    "bools = ['Есть', 'Нет']\n",
    "fuels = ['АИ-92', 'АИ-95', 'АИ-98', 'Дизель']\n",
    "colors = ['Чёрный', \"Белый\", \"Серебристый\", \"Красный\", \"Жёлтый\", \"Зелёный\", \"Синий\"]\n",
    "upholstery = ['Карпет', 'Искусственная коджа', 'Винил', 'Кожа', 'Хром', 'Алькантра']"
   ]
  },
  {
   "cell_type": "code",
   "execution_count": 2,
   "outputs": [],
   "source": [
    "import vin\n",
    "def get_vin():\n",
    "    vin_num = vin.getRandomVin()\n",
    "    while not vin.isValidVin(vin_num):\n",
    "        vin_num = vin.getRandomVin()\n",
    "    return vin_num"
   ],
   "metadata": {
    "collapsed": false
   }
  },
  {
   "cell_type": "code",
   "execution_count": 3,
   "outputs": [],
   "source": [
    "import random\n",
    "def get_year():\n",
    "    return random.randint(2000, 2023)"
   ],
   "metadata": {
    "collapsed": false
   }
  },
  {
   "cell_type": "code",
   "execution_count": 4,
   "outputs": [],
   "source": [
    "def get_price():\n",
    "    return random.randint(1000000, 3500000)"
   ],
   "metadata": {
    "collapsed": false
   }
  },
  {
   "cell_type": "code",
   "execution_count": 5,
   "outputs": [],
   "source": [
    "def get_devices():\n",
    "    sample = random.sample(devices, random.randint(1, 5))\n",
    "    res = '['\n",
    "    for el in sample:\n",
    "        res += f\"'{el}', \"\n",
    "    res = res[:-2] + ']'\n",
    "    return res"
   ],
   "metadata": {
    "collapsed": false
   }
  },
  {
   "cell_type": "code",
   "execution_count": 6,
   "outputs": [],
   "source": [
    "def get_tech_attrs():\n",
    "    jsonb = f'{{\"engine_v\": {round(random.uniform(1.1, 3.5), 1)},' \\\n",
    "            f'\"engine_p\": {random.randint(80, 150)},' \\\n",
    "            f'\"fuel_cons\": {random.randint(5, 25)},' \\\n",
    "            f'\"num_doors\": {random.choice([2, 4, 6])},' \\\n",
    "            f'\"num_seats\": {random.choice([2, 4, 6])},' \\\n",
    "            f'\"trunk_v\": {random.randint(200, 800)},' \\\n",
    "            f'\"transmission_type\": \"{random.choice(transmissions)}\",' \\\n",
    "            f'\"cruise_control\": \"{random.choice(bools)}\",' \\\n",
    "            f'\"fuel_type\": \"{random.choice(fuels)}\"}}'\n",
    "    return jsonb"
   ],
   "metadata": {
    "collapsed": false
   }
  },
  {
   "cell_type": "code",
   "execution_count": 7,
   "outputs": [],
   "source": [
    "def get_consumer_attrs():\n",
    "    jsonb = f'{{\"upholstery\": \"{random.choice(upholstery)}\",' \\\n",
    "            f'\"color\": \"{random.choice(colors)}\"}}'\n",
    "    return jsonb"
   ],
   "metadata": {
    "collapsed": false
   }
  },
  {
   "cell_type": "code",
   "execution_count": 8,
   "outputs": [],
   "source": [
    "def get_history_attrs():\n",
    "    jsonb = f'{{\"last_checkup\": {random.randint(2019, 2023)},' \\\n",
    "            f'\"mileage\": {random.randint(20000, 150000)}}}'\n",
    "    return jsonb"
   ],
   "metadata": {
    "collapsed": false
   }
  },
  {
   "cell_type": "code",
   "execution_count": 9,
   "outputs": [
    {
     "name": "stdout",
     "output_type": "stream",
     "text": [
      "(1, \"EXEED\"), (2, \"Hyundai\"), (3, \"Kia\"), (4, \"Skoda\"), \n",
      "(1, \"LX\", 1), (2, \"TXL\", 1), (3, \"TXL 2.0\", 1), (4, \"TUCSON\", 2), (5, \"SANTA FE\", 2), (6, \"SONATA\", 2), (7, \"Seltos\", 3), (8, \"Ceed\", 3), (9, \"Sportage\", 3), (10, \"RAPID\", 4), (11, \"KAROQ\", 4), (12, \"SUPERB\", 4), \n"
     ]
    }
   ],
   "source": [
    "manufacturer_insert = ''\n",
    "models_insert = ''\n",
    "cars_insert = ''\n",
    "idx_mod = 1\n",
    "idx_car = 1\n",
    "nline = '\\n'\n",
    "for idx_mnf, (mnf, mnf_models) in enumerate(models.items()):\n",
    "    manufacturer_insert += f'({idx_mnf + 1}, \"{mnf}\"), '\n",
    "    for mod in mnf_models:\n",
    "        models_insert += f'({idx_mod}, \"{mod}\", {idx_mnf + 1}), '\n",
    "        for car_id in range(1, 4):\n",
    "            cars_insert += f\"({idx_car}, {idx_mod}, '{get_vin()}', {get_year()}, {get_price()}, ARRAY {get_devices()}, '{get_consumer_attrs()}', '{get_tech_attrs()}', '{get_history_attrs()}', TRUE), {nline}\"\n",
    "            idx_car += 1\n",
    "        idx_mod += 1\n",
    "print(manufacturer_insert)\n",
    "print(models_insert)"
   ],
   "metadata": {
    "collapsed": false
   }
  },
  {
   "cell_type": "code",
   "execution_count": 10,
   "outputs": [
    {
     "name": "stdout",
     "output_type": "stream",
     "text": [
      "(1, 1, 'JT8BH28FXVFB1NUUL', 2018, 2778772, ARRAY ['GPS-навигатор', 'мультимедиа-система', 'обогрев руля', 'обогрев сидений', 'радио'], '{\"upholstery\": \"Алькантра\",\"color\": \"Зелёный\"}', '{\"engine_v\": 2.8,\"engine_p\": 121,\"fuel_cons\": 17,\"num_doors\": 2,\"num_seats\": 2,\"trunk_v\": 366,\"transmission_type\": \"Робот\",\"cruise_control\": \"Нет\",\"fuel_type\": \"Дизель\"}', '{\"last_checkup\": 2019,\"mileage\": 21321}', TRUE), \n",
      "(2, 1, '2G1WW12MXVZPA0VVH', 2011, 3408324, ARRAY ['радио', 'обогрев сидений', 'GPS-навигатор', 'мультимедиа-система', 'кондиционер'], '{\"upholstery\": \"Кожа\",\"color\": \"Белый\"}', '{\"engine_v\": 2.2,\"engine_p\": 133,\"fuel_cons\": 19,\"num_doors\": 6,\"num_seats\": 6,\"trunk_v\": 658,\"transmission_type\": \"Вариатор\",\"cruise_control\": \"Есть\",\"fuel_type\": \"АИ-98\"}', '{\"last_checkup\": 2019,\"mileage\": 60333}', TRUE), \n",
      "(3, 1, '1FMNE31MX5N0KJHSU', 2007, 3202414, ARRAY ['радио', 'обогрев сидений'], '{\"upholstery\": \"Кожа\",\"color\": \"Синий\"}', '{\"engine_v\": 3.2,\"engine_p\": 109,\"fuel_cons\": 7,\"num_doors\": 4,\"num_seats\": 6,\"trunk_v\": 757,\"transmission_type\": \"Вариатор\",\"cruise_control\": \"Нет\",\"fuel_type\": \"АИ-92\"}', '{\"last_checkup\": 2021,\"mileage\": 98344}', TRUE), \n",
      "(4, 2, '1GBZGUFLXB80SPV8K', 2019, 2724981, ARRAY ['обогрев сидений', 'кондиционер', 'обогрев руля'], '{\"upholstery\": \"Карпет\",\"color\": \"Синий\"}', '{\"engine_v\": 2.3,\"engine_p\": 112,\"fuel_cons\": 16,\"num_doors\": 2,\"num_seats\": 2,\"trunk_v\": 275,\"transmission_type\": \"Робот\",\"cruise_control\": \"Нет\",\"fuel_type\": \"АИ-98\"}', '{\"last_checkup\": 2023,\"mileage\": 95235}', TRUE), \n",
      "(5, 2, '1FMDU22EXXCK62R2P', 2012, 1230893, ARRAY ['мультимедиа-система', 'обогрев руля', 'радио', 'кондиционер'], '{\"upholstery\": \"Алькантра\",\"color\": \"Белый\"}', '{\"engine_v\": 1.8,\"engine_p\": 96,\"fuel_cons\": 19,\"num_doors\": 6,\"num_seats\": 6,\"trunk_v\": 518,\"transmission_type\": \"Робот\",\"cruise_control\": \"Есть\",\"fuel_type\": \"Дизель\"}', '{\"last_checkup\": 2019,\"mileage\": 32578}', TRUE), \n",
      "(6, 2, '1C3EL36RX5J8G2BXN', 2013, 2422650, ARRAY ['радио', 'мультимедиа-система'], '{\"upholstery\": \"Алькантра\",\"color\": \"Жёлтый\"}', '{\"engine_v\": 3.2,\"engine_p\": 81,\"fuel_cons\": 25,\"num_doors\": 2,\"num_seats\": 4,\"trunk_v\": 570,\"transmission_type\": \"Вариатор\",\"cruise_control\": \"Нет\",\"fuel_type\": \"АИ-95\"}', '{\"last_checkup\": 2019,\"mileage\": 111956}', TRUE), \n",
      "(7, 3, 'WVWBA3AJXBVPP2S18', 2011, 1253800, ARRAY ['радио', 'кондиционер'], '{\"upholstery\": \"Искусственная коджа\",\"color\": \"Чёрный\"}', '{\"engine_v\": 2.7,\"engine_p\": 104,\"fuel_cons\": 10,\"num_doors\": 2,\"num_seats\": 4,\"trunk_v\": 625,\"transmission_type\": \"Робот\",\"cruise_control\": \"Нет\",\"fuel_type\": \"АИ-98\"}', '{\"last_checkup\": 2022,\"mileage\": 94930}', TRUE), \n",
      "(8, 3, '3MEHM081X6FDUXCZG', 2012, 2173683, ARRAY ['обогрев руля'], '{\"upholstery\": \"Хром\",\"color\": \"Чёрный\"}', '{\"engine_v\": 2.6,\"engine_p\": 140,\"fuel_cons\": 21,\"num_doors\": 4,\"num_seats\": 2,\"trunk_v\": 430,\"transmission_type\": \"Робот\",\"cruise_control\": \"Нет\",\"fuel_type\": \"АИ-92\"}', '{\"last_checkup\": 2022,\"mileage\": 68548}', TRUE), \n",
      "(9, 3, '3FAFP35ZX4E2N59ES', 2013, 1386080, ARRAY ['мультимедиа-система', 'обогрев сидений'], '{\"upholstery\": \"Хром\",\"color\": \"Белый\"}', '{\"engine_v\": 3.3,\"engine_p\": 104,\"fuel_cons\": 24,\"num_doors\": 6,\"num_seats\": 6,\"trunk_v\": 733,\"transmission_type\": \"Робот\",\"cruise_control\": \"Нет\",\"fuel_type\": \"АИ-92\"}', '{\"last_checkup\": 2020,\"mileage\": 47318}', TRUE), \n",
      "(10, 4, '1GC2GVF6XAXBD1SUW', 2013, 2631957, ARRAY ['мультимедиа-система', 'GPS-навигатор', 'радио'], '{\"upholstery\": \"Хром\",\"color\": \"Серебристый\"}', '{\"engine_v\": 1.8,\"engine_p\": 105,\"fuel_cons\": 7,\"num_doors\": 6,\"num_seats\": 6,\"trunk_v\": 378,\"transmission_type\": \"Вариатор\",\"cruise_control\": \"Нет\",\"fuel_type\": \"АИ-92\"}', '{\"last_checkup\": 2021,\"mileage\": 22278}', TRUE), \n",
      "(11, 4, '1FTYF172XW7M25VGE', 2004, 2766132, ARRAY ['радио', 'GPS-навигатор', 'мультимедиа-система'], '{\"upholstery\": \"Кожа\",\"color\": \"Чёрный\"}', '{\"engine_v\": 1.9,\"engine_p\": 119,\"fuel_cons\": 10,\"num_doors\": 6,\"num_seats\": 2,\"trunk_v\": 487,\"transmission_type\": \"Робот\",\"cruise_control\": \"Есть\",\"fuel_type\": \"АИ-92\"}', '{\"last_checkup\": 2021,\"mileage\": 70854}', TRUE), \n",
      "(12, 4, '1J4HS58PX92N365YH', 2019, 1362675, ARRAY ['обогрев сидений', 'обогрев руля', 'кондиционер', 'мультимедиа-система', 'GPS-навигатор'], '{\"upholstery\": \"Карпет\",\"color\": \"Синий\"}', '{\"engine_v\": 1.4,\"engine_p\": 113,\"fuel_cons\": 12,\"num_doors\": 6,\"num_seats\": 6,\"trunk_v\": 419,\"transmission_type\": \"Автомат\",\"cruise_control\": \"Нет\",\"fuel_type\": \"АИ-95\"}', '{\"last_checkup\": 2019,\"mileage\": 81496}', TRUE), \n",
      "(13, 5, '1GC5KZHLXBK5RSWCB', 2005, 2721401, ARRAY ['GPS-навигатор', 'мультимедиа-система', 'обогрев руля', 'кондиционер', 'радио'], '{\"upholstery\": \"Алькантра\",\"color\": \"Красный\"}', '{\"engine_v\": 1.6,\"engine_p\": 143,\"fuel_cons\": 20,\"num_doors\": 2,\"num_seats\": 2,\"trunk_v\": 740,\"transmission_type\": \"Вариатор\",\"cruise_control\": \"Нет\",\"fuel_type\": \"АИ-92\"}', '{\"last_checkup\": 2019,\"mileage\": 60652}', TRUE), \n",
      "(14, 5, '1FDNE24LXWDHWB1UT', 2005, 1152558, ARRAY ['GPS-навигатор', 'обогрев сидений', 'мультимедиа-система', 'кондиционер', 'радио'], '{\"upholstery\": \"Искусственная коджа\",\"color\": \"Зелёный\"}', '{\"engine_v\": 1.4,\"engine_p\": 144,\"fuel_cons\": 25,\"num_doors\": 4,\"num_seats\": 4,\"trunk_v\": 306,\"transmission_type\": \"Робот\",\"cruise_control\": \"Нет\",\"fuel_type\": \"АИ-92\"}', '{\"last_checkup\": 2022,\"mileage\": 74761}', TRUE), \n",
      "(15, 5, 'WVWED71KX9ES25PK4', 2014, 1007037, ARRAY ['обогрев руля', 'радио', 'мультимедиа-система', 'обогрев сидений', 'кондиционер'], '{\"upholstery\": \"Искусственная коджа\",\"color\": \"Чёрный\"}', '{\"engine_v\": 1.3,\"engine_p\": 98,\"fuel_cons\": 6,\"num_doors\": 2,\"num_seats\": 6,\"trunk_v\": 281,\"transmission_type\": \"Вариатор\",\"cruise_control\": \"Есть\",\"fuel_type\": \"АИ-98\"}', '{\"last_checkup\": 2019,\"mileage\": 85559}', TRUE), \n",
      "(16, 6, '1GTR2TFAXBLA2980N', 2013, 2443735, ARRAY ['радио', 'мультимедиа-система', 'обогрев руля'], '{\"upholstery\": \"Искусственная коджа\",\"color\": \"Синий\"}', '{\"engine_v\": 3.5,\"engine_p\": 97,\"fuel_cons\": 25,\"num_doors\": 4,\"num_seats\": 6,\"trunk_v\": 245,\"transmission_type\": \"Робот\",\"cruise_control\": \"Нет\",\"fuel_type\": \"АИ-92\"}', '{\"last_checkup\": 2023,\"mileage\": 100040}', TRUE), \n",
      "(17, 6, '2GCEK14TX2KSV9NU3', 2022, 1204031, ARRAY ['GPS-навигатор', 'обогрев руля', 'мультимедиа-система', 'кондиционер', 'радио'], '{\"upholstery\": \"Кожа\",\"color\": \"Белый\"}', '{\"engine_v\": 2.1,\"engine_p\": 102,\"fuel_cons\": 16,\"num_doors\": 2,\"num_seats\": 2,\"trunk_v\": 405,\"transmission_type\": \"Механика\",\"cruise_control\": \"Есть\",\"fuel_type\": \"АИ-95\"}', '{\"last_checkup\": 2021,\"mileage\": 58428}', TRUE), \n",
      "(18, 6, '1GJGG25VX79CR8CR1', 2005, 1289411, ARRAY ['обогрев руля', 'GPS-навигатор', 'мультимедиа-система', 'радио', 'обогрев сидений'], '{\"upholstery\": \"Искусственная коджа\",\"color\": \"Красный\"}', '{\"engine_v\": 1.7,\"engine_p\": 87,\"fuel_cons\": 20,\"num_doors\": 6,\"num_seats\": 2,\"trunk_v\": 438,\"transmission_type\": \"Робот\",\"cruise_control\": \"Есть\",\"fuel_type\": \"АИ-95\"}', '{\"last_checkup\": 2023,\"mileage\": 116718}', TRUE), \n",
      "(19, 7, '1GKS2GEJXBT0ND8ME', 2001, 1321264, ARRAY ['обогрев руля', 'обогрев сидений', 'радио', 'кондиционер'], '{\"upholstery\": \"Алькантра\",\"color\": \"Зелёный\"}', '{\"engine_v\": 2.7,\"engine_p\": 85,\"fuel_cons\": 5,\"num_doors\": 4,\"num_seats\": 2,\"trunk_v\": 429,\"transmission_type\": \"Вариатор\",\"cruise_control\": \"Есть\",\"fuel_type\": \"АИ-98\"}', '{\"last_checkup\": 2023,\"mileage\": 90529}', TRUE), \n",
      "(20, 7, 'WDYPF445X9SXKL0CS', 2005, 2771324, ARRAY ['мультимедиа-система', 'обогрев руля'], '{\"upholstery\": \"Алькантра\",\"color\": \"Серебристый\"}', '{\"engine_v\": 1.3,\"engine_p\": 84,\"fuel_cons\": 11,\"num_doors\": 6,\"num_seats\": 2,\"trunk_v\": 604,\"transmission_type\": \"Автомат\",\"cruise_control\": \"Есть\",\"fuel_type\": \"АИ-95\"}', '{\"last_checkup\": 2023,\"mileage\": 85324}', TRUE), \n",
      "(21, 7, '1C3LN59LX776GLVKL', 2012, 3089527, ARRAY ['кондиционер', 'обогрев сидений', 'GPS-навигатор'], '{\"upholstery\": \"Карпет\",\"color\": \"Жёлтый\"}', '{\"engine_v\": 2.1,\"engine_p\": 100,\"fuel_cons\": 8,\"num_doors\": 4,\"num_seats\": 6,\"trunk_v\": 692,\"transmission_type\": \"Автомат\",\"cruise_control\": \"Есть\",\"fuel_type\": \"Дизель\"}', '{\"last_checkup\": 2021,\"mileage\": 125118}', TRUE), \n",
      "(22, 8, '1GKFC16YX736GGZXP', 2008, 1798759, ARRAY ['мультимедиа-система'], '{\"upholstery\": \"Винил\",\"color\": \"Белый\"}', '{\"engine_v\": 2.8,\"engine_p\": 136,\"fuel_cons\": 8,\"num_doors\": 4,\"num_seats\": 6,\"trunk_v\": 767,\"transmission_type\": \"Робот\",\"cruise_control\": \"Есть\",\"fuel_type\": \"АИ-98\"}', '{\"last_checkup\": 2022,\"mileage\": 124199}', TRUE), \n",
      "(23, 8, '1D4GP21RX4R43VSUM', 2000, 1475424, ARRAY ['кондиционер', 'обогрев сидений', 'GPS-навигатор'], '{\"upholstery\": \"Алькантра\",\"color\": \"Синий\"}', '{\"engine_v\": 1.7,\"engine_p\": 147,\"fuel_cons\": 22,\"num_doors\": 4,\"num_seats\": 4,\"trunk_v\": 274,\"transmission_type\": \"Вариатор\",\"cruise_control\": \"Нет\",\"fuel_type\": \"Дизель\"}', '{\"last_checkup\": 2021,\"mileage\": 103201}', TRUE), \n",
      "(24, 8, '1GTN2VB0XB1KC6GXV', 2004, 2458496, ARRAY ['GPS-навигатор', 'обогрев руля', 'кондиционер', 'радио'], '{\"upholstery\": \"Искусственная коджа\",\"color\": \"Белый\"}', '{\"engine_v\": 1.3,\"engine_p\": 118,\"fuel_cons\": 10,\"num_doors\": 6,\"num_seats\": 2,\"trunk_v\": 564,\"transmission_type\": \"Механика\",\"cruise_control\": \"Есть\",\"fuel_type\": \"АИ-92\"}', '{\"last_checkup\": 2019,\"mileage\": 74569}', TRUE), \n",
      "(25, 9, 'JN8DR07YX1UTZCL2Y', 2023, 1516361, ARRAY ['обогрев руля'], '{\"upholstery\": \"Алькантра\",\"color\": \"Красный\"}', '{\"engine_v\": 3.3,\"engine_p\": 94,\"fuel_cons\": 22,\"num_doors\": 2,\"num_seats\": 2,\"trunk_v\": 469,\"transmission_type\": \"Автомат\",\"cruise_control\": \"Есть\",\"fuel_type\": \"АИ-92\"}', '{\"last_checkup\": 2020,\"mileage\": 85065}', TRUE), \n",
      "(26, 9, 'YS3FA5MYXAMT7GCPF', 2017, 2596781, ARRAY ['кондиционер', 'радио', 'GPS-навигатор', 'обогрев руля', 'мультимедиа-система'], '{\"upholstery\": \"Карпет\",\"color\": \"Зелёный\"}', '{\"engine_v\": 1.8,\"engine_p\": 110,\"fuel_cons\": 13,\"num_doors\": 4,\"num_seats\": 4,\"trunk_v\": 449,\"transmission_type\": \"Механика\",\"cruise_control\": \"Есть\",\"fuel_type\": \"АИ-98\"}', '{\"last_checkup\": 2020,\"mileage\": 33495}', TRUE), \n",
      "(27, 9, '1GBZGGAGXA2KH6HAD', 2015, 1675032, ARRAY ['обогрев сидений', 'обогрев руля'], '{\"upholstery\": \"Искусственная коджа\",\"color\": \"Жёлтый\"}', '{\"engine_v\": 1.1,\"engine_p\": 130,\"fuel_cons\": 10,\"num_doors\": 6,\"num_seats\": 4,\"trunk_v\": 529,\"transmission_type\": \"Вариатор\",\"cruise_control\": \"Нет\",\"fuel_type\": \"АИ-98\"}', '{\"last_checkup\": 2020,\"mileage\": 87649}', TRUE), \n",
      "(28, 10, 'JTHGL1EFXBPGRP02A', 2011, 3267439, ARRAY ['GPS-навигатор'], '{\"upholstery\": \"Искусственная коджа\",\"color\": \"Серебристый\"}', '{\"engine_v\": 1.9,\"engine_p\": 104,\"fuel_cons\": 5,\"num_doors\": 6,\"num_seats\": 6,\"trunk_v\": 717,\"transmission_type\": \"Автомат\",\"cruise_control\": \"Есть\",\"fuel_type\": \"АИ-92\"}', '{\"last_checkup\": 2019,\"mileage\": 73639}', TRUE), \n",
      "(29, 10, '2GTEC130X79KC65XT', 2012, 2538762, ARRAY ['мультимедиа-система', 'радио', 'обогрев руля', 'обогрев сидений', 'кондиционер'], '{\"upholstery\": \"Алькантра\",\"color\": \"Зелёный\"}', '{\"engine_v\": 1.7,\"engine_p\": 80,\"fuel_cons\": 13,\"num_doors\": 6,\"num_seats\": 2,\"trunk_v\": 206,\"transmission_type\": \"Механика\",\"cruise_control\": \"Нет\",\"fuel_type\": \"АИ-95\"}', '{\"last_checkup\": 2022,\"mileage\": 118352}', TRUE), \n",
      "(30, 10, 'WAUEH78EX7ZTVR2FG', 2016, 2090705, ARRAY ['радио', 'GPS-навигатор', 'кондиционер', 'обогрев сидений', 'мультимедиа-система'], '{\"upholstery\": \"Винил\",\"color\": \"Зелёный\"}', '{\"engine_v\": 3.0,\"engine_p\": 119,\"fuel_cons\": 6,\"num_doors\": 4,\"num_seats\": 2,\"trunk_v\": 404,\"transmission_type\": \"Автомат\",\"cruise_control\": \"Есть\",\"fuel_type\": \"АИ-95\"}', '{\"last_checkup\": 2023,\"mileage\": 64033}', TRUE), \n",
      "(31, 11, 'JTMZK32VX975GHR1E', 2002, 1491241, ARRAY ['радио', 'кондиционер', 'обогрев руля', 'мультимедиа-система'], '{\"upholstery\": \"Винил\",\"color\": \"Белый\"}', '{\"engine_v\": 3.4,\"engine_p\": 139,\"fuel_cons\": 22,\"num_doors\": 4,\"num_seats\": 2,\"trunk_v\": 320,\"transmission_type\": \"Робот\",\"cruise_control\": \"Нет\",\"fuel_type\": \"АИ-92\"}', '{\"last_checkup\": 2022,\"mileage\": 133952}', TRUE), \n",
      "(32, 11, '1GTPKTE0XADEK3GS0', 2003, 2870516, ARRAY ['GPS-навигатор', 'радио', 'обогрев сидений', 'кондиционер'], '{\"upholstery\": \"Искусственная коджа\",\"color\": \"Чёрный\"}', '{\"engine_v\": 1.5,\"engine_p\": 99,\"fuel_cons\": 14,\"num_doors\": 6,\"num_seats\": 6,\"trunk_v\": 450,\"transmission_type\": \"Вариатор\",\"cruise_control\": \"Есть\",\"fuel_type\": \"Дизель\"}', '{\"last_checkup\": 2022,\"mileage\": 22644}', TRUE), \n",
      "(33, 11, '1FTWX33SX18KYJJF3', 2018, 2195119, ARRAY ['кондиционер', 'радио'], '{\"upholstery\": \"Алькантра\",\"color\": \"Белый\"}', '{\"engine_v\": 3.0,\"engine_p\": 126,\"fuel_cons\": 16,\"num_doors\": 4,\"num_seats\": 2,\"trunk_v\": 643,\"transmission_type\": \"Автомат\",\"cruise_control\": \"Нет\",\"fuel_type\": \"АИ-92\"}', '{\"last_checkup\": 2021,\"mileage\": 90555}', TRUE), \n",
      "(34, 12, '1FMFU175X86WRPFZ8', 2012, 1145153, ARRAY ['обогрев руля', 'мультимедиа-система'], '{\"upholstery\": \"Хром\",\"color\": \"Жёлтый\"}', '{\"engine_v\": 3.0,\"engine_p\": 126,\"fuel_cons\": 18,\"num_doors\": 4,\"num_seats\": 4,\"trunk_v\": 668,\"transmission_type\": \"Автомат\",\"cruise_control\": \"Нет\",\"fuel_type\": \"Дизель\"}', '{\"last_checkup\": 2022,\"mileage\": 135943}', TRUE), \n",
      "(35, 12, '3GTGC26RXWXTGU7E6', 2000, 2762597, ARRAY ['обогрев сидений', 'обогрев руля', 'мультимедиа-система', 'радио', 'GPS-навигатор'], '{\"upholstery\": \"Алькантра\",\"color\": \"Зелёный\"}', '{\"engine_v\": 1.2,\"engine_p\": 83,\"fuel_cons\": 22,\"num_doors\": 6,\"num_seats\": 4,\"trunk_v\": 278,\"transmission_type\": \"Робот\",\"cruise_control\": \"Нет\",\"fuel_type\": \"АИ-92\"}', '{\"last_checkup\": 2020,\"mileage\": 34365}', TRUE), \n",
      "(36, 12, '2FMDK38CX7V9GZZJS', 2002, 2589844, ARRAY ['радио'], '{\"upholstery\": \"Кожа\",\"color\": \"Чёрный\"}', '{\"engine_v\": 2.1,\"engine_p\": 123,\"fuel_cons\": 8,\"num_doors\": 4,\"num_seats\": 2,\"trunk_v\": 792,\"transmission_type\": \"Механика\",\"cruise_control\": \"Есть\",\"fuel_type\": \"АИ-92\"}', '{\"last_checkup\": 2021,\"mileage\": 57697}', TRUE), \n",
      "\n"
     ]
    }
   ],
   "source": [
    "print(cars_insert)"
   ],
   "metadata": {
    "collapsed": false
   }
  },
  {
   "cell_type": "code",
   "execution_count": 11,
   "outputs": [],
   "source": [
    "def get_phone():\n",
    "    return '7' + f'{random.randint(900, 999)}' + f'{random.randint(1000000, 9999999)}'"
   ],
   "metadata": {
    "collapsed": false
   }
  },
  {
   "cell_type": "code",
   "execution_count": 12,
   "outputs": [],
   "source": [
    "from faker import Faker\n",
    "fake = Faker(\"ru_RU\")\n",
    "nline = '\\n'\n",
    "\n",
    "def get_clients():\n",
    "    clients = ''\n",
    "    for client_id in range(1, 6):\n",
    "        clients += f'({client_id}, \"{fake.name()}\", \"{fake.address()}\", \"{fake.ascii_free_email()}\", \"{get_phone()}\"), {nline}'\n",
    "    return clients"
   ],
   "metadata": {
    "collapsed": false
   }
  },
  {
   "cell_type": "code",
   "execution_count": 13,
   "outputs": [
    {
     "name": "stdout",
     "output_type": "stream",
     "text": [
      "(1, \"Носков Юлиан Егорович\", \"с. Шатой, ш. Морское, д. 9/5, 102222\", \"taras38@yandex.ru\", \"79194998542\"), \n",
      "(2, \"Мишин Артемий Васильевич\", \"клх Волгоград, пер. Буденного, д. 3 стр. 8, 091020\", \"krilovsvjatoslav@rambler.ru\", \"79023692775\"), \n",
      "(3, \"Капустин Святополк Иосифович\", \"ст. Верхоянск, бул. Победы, д. 633 стр. 657, 825653\", \"zpotapova@rambler.ru\", \"79158553190\"), \n",
      "(4, \"Елена Тарасовна Морозова\", \"г. Таганрог, наб. Одесская, д. 447 к. 73, 693590\", \"efremovaivanna@mail.ru\", \"79292964322\"), \n",
      "(5, \"Гусев Лонгин Трифонович\", \"клх Катав-Ивановск, пр. Коммунаров, д. 2 стр. 2/2, 659727\", \"iosif42@rambler.ru\", \"79885586531\"), \n",
      "\n"
     ]
    }
   ],
   "source": [
    "print(get_clients())"
   ],
   "metadata": {
    "collapsed": false
   }
  },
  {
   "cell_type": "code",
   "execution_count": 21,
   "outputs": [],
   "source": [
    "from datetime import datetime\n",
    "start_date = datetime.strptime('2018-01-01', '%Y-%m-%S')\n",
    "need_test_statuses = [\"TRUE\", \"FALSE\"]\n",
    "statuses = ['В работе', 'Отменён', 'Ожидание оплаты', 'Оплачен', 'Завершён', 'На тест-драйве']\n",
    "nline = '\\n'\n",
    "# TIMESTAMP '2011-05-16 15:36:38'\n",
    "def get_orders():\n",
    "    orders = ''\n",
    "    test_drives = ''\n",
    "    for order_id in range(1, 9):\n",
    "        timestamp = fake.date_between(start_date).strftime(\"%Y-%m-%d %H:%m:%S\")\n",
    "        need_test = random.choice(need_test_statuses)\n",
    "        status = random.choice(statuses)\n",
    "        client_id = random.randint(1, 5)\n",
    "        car_id = random.randint(1, 36)\n",
    "        tested = random.choice(need_test_statuses)\n",
    "        if need_test == 'FALSE':\n",
    "            while status == 'На тест-драйве':\n",
    "                status = random.choice(statuses)\n",
    "        if status == 'На тест-драйве':\n",
    "            tested = 'TRUE'\n",
    "            #test_drives += f'({client_id}, {car_id}), {nline}'\n",
    "        orders += f\"({order_id}, {client_id}, {car_id}, TIMESTAMP '{timestamp}', {need_test}, {tested}, '{status}'), {nline}\"\n",
    "    return orders, test_drives"
   ],
   "metadata": {
    "collapsed": false
   }
  },
  {
   "cell_type": "code",
   "execution_count": 23,
   "outputs": [
    {
     "name": "stdout",
     "output_type": "stream",
     "text": [
      "(1, 2, 19, TIMESTAMP '2022-09-21 00:09:00', FALSE, TRUE, 'Отменён'), \n",
      "(2, 1, 36, TIMESTAMP '2018-11-08 00:11:00', TRUE, TRUE, 'Ожидание оплаты'), \n",
      "(3, 3, 35, TIMESTAMP '2021-12-28 00:12:00', TRUE, FALSE, 'Оплачен'), \n",
      "(4, 3, 31, TIMESTAMP '2019-08-06 00:08:00', TRUE, TRUE, 'На тест-драйве'), \n",
      "(5, 4, 9, TIMESTAMP '2019-08-27 00:08:00', TRUE, FALSE, 'Оплачен'), \n",
      "(6, 1, 30, TIMESTAMP '2020-09-28 00:09:00', FALSE, FALSE, 'Отменён'), \n",
      "(7, 2, 29, TIMESTAMP '2020-05-25 00:05:00', TRUE, TRUE, 'Отменён'), \n",
      "(8, 4, 8, TIMESTAMP '2021-11-07 00:11:00', TRUE, TRUE, 'На тест-драйве'), \n",
      "\n",
      "\n"
     ]
    }
   ],
   "source": [
    "orders, test_drives = get_orders()\n",
    "print(orders)\n",
    "print(test_drives)"
   ],
   "metadata": {
    "collapsed": false
   }
  },
  {
   "cell_type": "code",
   "execution_count": 219,
   "outputs": [
    {
     "data": {
      "text/plain": "'2019-02-26 00:02:00'"
     },
     "execution_count": 219,
     "metadata": {},
     "output_type": "execute_result"
    }
   ],
   "source": [],
   "metadata": {
    "collapsed": false
   }
  }
 ],
 "metadata": {
  "kernelspec": {
   "display_name": "Python 3",
   "language": "python",
   "name": "python3"
  },
  "language_info": {
   "codemirror_mode": {
    "name": "ipython",
    "version": 2
   },
   "file_extension": ".py",
   "mimetype": "text/x-python",
   "name": "python",
   "nbconvert_exporter": "python",
   "pygments_lexer": "ipython2",
   "version": "2.7.6"
  }
 },
 "nbformat": 4,
 "nbformat_minor": 0
}
